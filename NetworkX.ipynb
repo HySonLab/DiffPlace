{
 "cells": [
  {
   "cell_type": "markdown",
   "metadata": {},
   "source": [
    "# NetworkX"
   ]
  },
  {
   "cell_type": "markdown",
   "metadata": {},
   "source": [
    "<a href=\"https://colab.research.google.com/github/joerg84/Graph_Powered_ML_Workshop/blob/master/NetworkX.ipynb\" target=\"_parent\"><img src=\"https://colab.research.google.com/assets/colab-badge.svg\" alt=\"Open In Colab\"/></a>"
   ]
  },
  {
   "cell_type": "markdown",
   "metadata": {},
   "source": [
    "First, setting up our environment."
   ]
  },
  {
   "cell_type": "code",
   "execution_count": null,
   "metadata": {},
   "outputs": [],
   "source": [
    "%%capture\n",
    "!git clone https://github.com/joerg84/Graph_Powered_ML_Workshop.git\n",
    "!rsync -av Graph_Powered_ML_Workshop/ ./ --exclude=.git\n",
    "!pip3 install networkx\n",
    "!pip3 install matplotlib"
   ]
  },
  {
   "cell_type": "code",
   "execution_count": null,
   "metadata": {},
   "outputs": [],
   "source": [
    "import networkx as nx\n",
    "import matplotlib.pyplot as plt"
   ]
  },
  {
   "cell_type": "code",
   "execution_count": null,
   "metadata": {},
   "outputs": [],
   "source": [
    "G = nx.Graph()\n",
    "G.add_edges_from([(1, 2), (1, 3)])\n",
    "G.add_node(\"spam\") \n",
    "\n",
    "nx.draw(G, with_labels=True, font_weight='bold')"
   ]
  },
  {
   "cell_type": "markdown",
   "metadata": {},
   "source": [
    "Let us perform some basics Graph Analytics. Check here for more: https://networkx.github.io/documentation/stable/reference/algorithms/index.html"
   ]
  },
  {
   "cell_type": "code",
   "execution_count": null,
   "metadata": {},
   "outputs": [],
   "source": [
    "print(\"Connected Components\")\n",
    "print(list(nx.connected_components(G)))\n",
    "\n",
    "print(\"Degree\")\n",
    "print(G.degree())"
   ]
  },
  {
   "cell_type": "code",
   "execution_count": null,
   "metadata": {},
   "outputs": [],
   "source": [
    "# Node attributes and connections\n",
    "G.add_node(\"Boston\", country='USA')\n",
    "G.add_node(\"Berlin\", country='Germany')\n",
    "print(G.nodes.data())\n",
    "\n",
    "G.add_weighted_edges_from([(\"Boston\", \"Berlin\", 6077)])\n",
    "# print egdes\n",
    "print(G[\"Boston\"])"
   ]
  },
  {
   "cell_type": "markdown",
   "metadata": {},
   "source": [
    "NetworkX also comes with a classic graphs and generators:"
   ]
  },
  {
   "cell_type": "code",
   "execution_count": null,
   "metadata": {},
   "outputs": [],
   "source": [
    "com = nx.complete_graph(10)\n",
    "nx.draw(com, with_labels=True, font_weight='bold')"
   ]
  },
  {
   "cell_type": "code",
   "execution_count": null,
   "metadata": {},
   "outputs": [],
   "source": [
    "# Directed Graph\n",
    "dg = nx.DiGraph()\n",
    "dg.add_weighted_edges_from([(1, 2, 0.5), (3, 1, 0.75)])\n",
    "nx.draw(dg, with_labels=True, font_weight='bold')"
   ]
  },
  {
   "cell_type": "markdown",
   "metadata": {},
   "source": [
    "Remember?"
   ]
  },
  {
   "cell_type": "markdown",
   "metadata": {},
   "source": [
    "![ratings](img/user_movie_rating.png)"
   ]
  },
  {
   "cell_type": "code",
   "execution_count": null,
   "metadata": {},
   "outputs": [],
   "source": [
    "print(\"Rating Data\")\n",
    "!head -n 3 data/ratings.csv \n"
   ]
  },
  {
   "cell_type": "code",
   "execution_count": null,
   "metadata": {},
   "outputs": [],
   "source": [
    "import csv\n",
    "\n",
    "edge_list = [(1,2,1),(1,3,3)]\n",
    "counter = 0\n",
    "with open('data/ratings.csv', newline='') as csvfile:\n",
    "        reader = csv.reader(csvfile, delimiter=',', quotechar='|')\n",
    "        #Skip header\n",
    "        next(reader)\n",
    "        for row in reader:\n",
    "            user_id,movie_id,rating,timestamp = tuple(row)\n",
    "            edge_list.append((\"User_\"+user_id, \"Movie_\"+movie_id, rating))\n",
    "            counter = counter + 1\n",
    "            if counter > 10:\n",
    "                break\n",
    "                \n",
    "                \n",
    "G = nx.Graph()\n",
    "G.add_weighted_edges_from(edge_list)\n",
    "nx.draw(G, with_labels=True, font_weight='bold')"
   ]
  },
  {
   "cell_type": "markdown",
   "metadata": {},
   "source": [
    "*Challenges*:\n",
    "* Add different colours for differt node types when drawing (hint: https://networkx.github.io/documentation/stable/auto_examples/drawing/plot_labels_and_colors.html)\n",
    "* Find most often rated movie\n",
    "* Find movie with highest average rating\n",
    "* Add node attributes from User/Movies\n",
    "* Recreate the movie recommendation system \n",
    "* ...\n"
   ]
  },
  {
   "cell_type": "code",
   "execution_count": null,
   "metadata": {},
   "outputs": [],
   "source": []
  }
 ],
 "metadata": {
  "kernelspec": {
   "display_name": "Python 3",
   "language": "python",
   "name": "python3"
  },
  "language_info": {
   "codemirror_mode": {
    "name": "ipython",
    "version": 3
   },
   "file_extension": ".py",
   "mimetype": "text/x-python",
   "name": "python",
   "nbconvert_exporter": "python",
   "pygments_lexer": "ipython3",
   "version": "3.7.7"
  }
 },
 "nbformat": 4,
 "nbformat_minor": 4
}
